{
 "cells": [
  {
   "cell_type": "code",
   "execution_count": null,
   "metadata": {},
   "outputs": [],
   "source": [
    "from tensorflow import keras\n",
    "import keras.backend as K\n",
    "from keras.models import Model\n",
    "from keras.layers import Input, Dense, Conv2D, Conv3D, DepthwiseConv2D, SeparableConv2D, Conv3DTranspose\n",
    "from keras.layers import Flatten, MaxPool2D, AvgPool2D, GlobalAvgPool2D, UpSampling2D, BatchNormalization\n",
    "from keras.layers import Concatenate, Add, Dropout, ReLU, Lambda, Activation, LeakyReLU, PReLU\n",
    "from IPython.display import SVG\n",
    "from keras.utils.vis_utils import model_to_dot\n",
    "from time import time\n",
    "import numpy as np\n",
    "import pandas as pd\n",
    "from keras.preprocessing.image import ImageDataGenerator"
   ]
  },
  {
   "cell_type": "code",
   "execution_count": null,
   "metadata": {},
   "outputs": [],
   "source": [
    "def append_ext(fn):\n",
    "    return fn+\".jpg\"\n",
    "\n",
    "#loading dataset \n",
    "df = pd.read_csv(\"dataset.csv\")\n",
    "\n",
    "df[\"img\"] = df[\"img\"].apply(append_ext)\n",
    "\n",
    "df = df.replace(np.nan, 0)\n",
    "\n",
    "columns = ['gummy','golden_proportion ','gap','crowding','incisal embrassure ','color','Central line','Crooked','Central Incisor W/H Ratio','Black triangle','perfect']\n",
    "\n"
   ]
  },
  {
   "cell_type": "code",
   "execution_count": null,
   "metadata": {},
   "outputs": [],
   "source": [
    "#shuffle dataframe before splitting \n",
    "df=df.sample(frac=1).reset_index(drop=True)"
   ]
  },
  {
   "cell_type": "code",
   "execution_count": null,
   "metadata": {},
   "outputs": [],
   "source": [
    "# # preprocessing the training set\n",
    "# train_data_generation = ImageDataGenerator(rescale=1./255)\n",
    "\n",
    "# training_set = train_data_generation.flow_from_dataframe(dataframe=traindf,\n",
    "#                                                          directory=\"./cropped_teeth\",\n",
    "#                                                          x_col=\"img\",\n",
    "#                                                          y_col=columns,\n",
    "#                                                          target_size=(224, 224),\n",
    "#                                                          batch_size=1,\n",
    "#                                                          class_mode=\"raw\",seed=0)\n",
    "# # preprocessing the testing set\n",
    "# valid_data_generation = ImageDataGenerator(rescale=1./255)\n",
    "\n",
    "# valid_set = valid_data_generation.flow_from_dataframe(dataframe=validdf,\n",
    "#                                                          directory=\"./cropped_teeth\",\n",
    "#                                                          x_col=\"img\",\n",
    "#                                                          y_col=columns,\n",
    "#                                                          target_size=(224, 224),\n",
    "#                                                          batch_size=1,\n",
    "#                                                          class_mode=\"raw\",seed=0)\n",
    "\n",
    "# # preprocessing the testing set\n",
    "# test_data_generation = ImageDataGenerator(rescale=1./255)\n",
    "\n",
    "# test_set = test_data_generation.flow_from_dataframe(dataframe=testdf,\n",
    "#                                                          directory=\"./cropped_teeth\",\n",
    "#                                                          x_col=\"img\",\n",
    "#                                                          y_col=None,\n",
    "#                                                          target_size=(224, 224),\n",
    "#                                                          batch_size=1,\n",
    "#                                                          class_mode=None,seed=0)"
   ]
  },
  {
   "cell_type": "code",
   "execution_count": null,
   "metadata": {},
   "outputs": [],
   "source": [
    "# preprocessing the training set\n",
    "train_data_generation = ImageDataGenerator(rescale=1./255)\n",
    "\n",
    "training_set = train_data_generation.flow_from_dataframe(dataframe=df[:155],\n",
    "                                                         directory=\"./cropped_teeth\",\n",
    "                                                         x_col=\"img\",\n",
    "                                                         y_col=columns,\n",
    "                                                         target_size=(224, 224),\n",
    "                                                         batch_size=1,\n",
    "                                                         class_mode=\"raw\",seed=0)\n",
    "# preprocessing the testing set\n",
    "valid_data_generation = ImageDataGenerator(rescale=1./255)\n",
    "\n",
    "valid_set = valid_data_generation.flow_from_dataframe(dataframe=df[155:175],\n",
    "                                                         directory=\"./cropped_teeth\",\n",
    "                                                         x_col=\"img\",\n",
    "                                                         y_col=columns,\n",
    "                                                         target_size=(224, 224),\n",
    "                                                         batch_size=1,\n",
    "                                                         class_mode=\"raw\",seed=0)\n",
    "\n",
    "# preprocessing the testing set\n",
    "test_data_generation = ImageDataGenerator(rescale=1./255)\n",
    "\n",
    "test_set = test_data_generation.flow_from_dataframe(dataframe=df[175:],\n",
    "                                                         directory=\"./cropped_teeth\",\n",
    "                                                         x_col=\"img\",\n",
    "                                                         y_col=None,\n",
    "                                                         target_size=(224, 224),\n",
    "                                                         batch_size=1,\n",
    "                                                         class_mode=None,seed=0)"
   ]
  },
  {
   "cell_type": "code",
   "execution_count": null,
   "metadata": {},
   "outputs": [],
   "source": [
    "def vgg(input_shape):\n",
    "  \n",
    "  input = Input(input_shape)\n",
    "  \n",
    "  x = Conv2D(64, 3, padding='same', activation='relu')(input)\n",
    "  x = Conv2D(64, 3, padding='same', activation='relu')(x)\n",
    "  x = MaxPool2D(2, strides=2, padding='same')(x)\n",
    "  \n",
    "  x = Conv2D(128, 3, padding='same', activation='relu')(x)\n",
    "  x = Conv2D(128, 3, padding='same', activation='relu')(x)\n",
    "  x = MaxPool2D(2, strides=2, padding='same')(x)\n",
    "  \n",
    "  x = Conv2D(256, 3, padding='same', activation='relu')(x)\n",
    "  x = Conv2D(256, 3, padding='same', activation='relu')(x)\n",
    "  x = Conv2D(256, 3, padding='same', activation='relu')(x)\n",
    "  x = MaxPool2D(2, strides=2, padding='same')(x)\n",
    "  \n",
    "  x = Conv2D(512, 3, padding='same', activation='relu')(x)\n",
    "  x = Conv2D(512, 3, padding='same', activation='relu')(x)\n",
    "  x = Conv2D(512, 3, padding='same', activation='relu')(x)\n",
    "  x = MaxPool2D(2, strides=2, padding='same')(x)\n",
    "  \n",
    "  x = Conv2D(512, 3, padding='same', activation='relu')(x)\n",
    "  x = Conv2D(512, 3, padding='same', activation='relu')(x)\n",
    "  x = Conv2D(512, 3, padding='same', activation='relu')(x)\n",
    "  x = MaxPool2D(2, strides=2, padding='same')(x)\n",
    "  \n",
    "  x = Flatten()(x)\n",
    "  x = Dense(4096, activation='relu')(x)\n",
    "  x = Dense(4096, activation='relu')(x)\n",
    "  \n",
    "  output = Dense(1000, activation='softmax')(x)\n",
    "  \n",
    "  model = Model(input, output)\n",
    "  return model"
   ]
  },
  {
   "cell_type": "code",
   "execution_count": null,
   "metadata": {},
   "outputs": [],
   "source": [
    "model= vgg([224,224,3])\n",
    "model.summary()"
   ]
  },
  {
   "cell_type": "code",
   "execution_count": null,
   "metadata": {},
   "outputs": [],
   "source": [
    "def mobilenet(input_shape):\n",
    "  \n",
    "  def mobilenet_block(x, f, s=1):\n",
    "    x = DepthwiseConv2D(3, strides=s, padding='same')(x)\n",
    "    x = BatchNormalization()(x)\n",
    "    x = ReLU()(x)\n",
    "    \n",
    "    x = Conv2D(f, 1, strides=1, padding='same')(x)\n",
    "    x = BatchNormalization()(x)\n",
    "    x = ReLU()(x)\n",
    "    return x\n",
    "    \n",
    "    \n",
    "  input = Input(input_shape)\n",
    "\n",
    "  x = Conv2D(32, 3, strides=2, padding='same')(input)\n",
    "  x = BatchNormalization()(x)\n",
    "  x = ReLU()(x)\n",
    "\n",
    "  x = mobilenet_block(x, 64)\n",
    "  x = mobilenet_block(x, 128, 2)\n",
    "  x = mobilenet_block(x, 128)\n",
    "\n",
    "  x = mobilenet_block(x, 256, 2)\n",
    "  x = mobilenet_block(x, 256)\n",
    "\n",
    "  x = mobilenet_block(x, 512, 2)\n",
    "  for i in range(5):\n",
    "    x = mobilenet_block(x, 512)\n",
    "\n",
    "  x = mobilenet_block(x, 1024, 2)\n",
    "  x = mobilenet_block(x, 1024)\n",
    "  \n",
    "  x = GlobalAvgPool2D()(x)\n",
    "  \n",
    "  output = Dense(1000, activation='softmax')(x)\n",
    "  \n",
    "  model = Model(input, output)\n",
    "  return model"
   ]
  },
  {
   "cell_type": "code",
   "execution_count": null,
   "metadata": {},
   "outputs": [],
   "source": [
    "model2= mobilenet([224,224,3])\n",
    "model2.summary()"
   ]
  },
  {
   "cell_type": "code",
   "execution_count": null,
   "metadata": {},
   "outputs": [],
   "source": [
    "# vgg\n",
    "model.compile(optimizer='adam', loss = 'sparse_categorical_crossentropy', metrics = ['accuracy'])\n",
    "model.fit(x=training_set, validation_data=valid_set, epochs=20)\n"
   ]
  },
  {
   "cell_type": "code",
   "execution_count": null,
   "metadata": {},
   "outputs": [],
   "source": [
    "#mobilenet\n",
    "model2.compile(optimizer='adam', loss = 'sparse_categorical_crossentropy', metrics = ['accuracy'])\n",
    "model2.fit(x=training_set, validation_data=testing_set, epochs=20)"
   ]
  },
  {
   "cell_type": "code",
   "execution_count": null,
   "metadata": {},
   "outputs": [],
   "source": []
  }
 ],
 "metadata": {
  "kernelspec": {
   "display_name": "Python 3",
   "language": "python",
   "name": "python3"
  },
  "language_info": {
   "codemirror_mode": {
    "name": "ipython",
    "version": 3
   },
   "file_extension": ".py",
   "mimetype": "text/x-python",
   "name": "python",
   "nbconvert_exporter": "python",
   "pygments_lexer": "ipython3",
   "version": "3.6.4"
  }
 },
 "nbformat": 4,
 "nbformat_minor": 5
}
