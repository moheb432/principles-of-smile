{
  "cells": [
    {
      "cell_type": "code",
      "execution_count": 1,
      "metadata": {
        "colab": {
          "base_uri": "https://localhost:8080/"
        },
        "id": "4XiNYyszOCIZ",
        "outputId": "7adb8f54-4373-4a4a-a2f8-b2a53ea24459"
      },
      "outputs": [
        {
          "output_type": "stream",
          "name": "stdout",
          "text": [
            "Cloning into 'cloned-repo'...\n",
            "warning: --local is ignored\n",
            "remote: Enumerating objects: 6452, done.\u001b[K\n",
            "remote: Counting objects: 100% (1673/1673), done.\u001b[K\n",
            "remote: Compressing objects: 100% (1669/1669), done.\u001b[K\n",
            "remote: Total 6452 (delta 4), reused 1662 (delta 4), pack-reused 4779\u001b[K\n",
            "Receiving objects: 100% (6452/6452), 340.74 MiB | 19.44 MiB/s, done.\n",
            "Resolving deltas: 100% (267/267), done.\n",
            "Checking out files: 100% (6381/6381), done.\n",
            "/content/cloned-repo\n",
            " add_augmented_to_csv.py\t\t mobile-net.ipynb\n",
            " all_teeth\t\t\t\t old\n",
            "'biometrics_dataset - Sheet1.csv'\t README.md\n",
            " Copy_of_biometrics_task_model_1.ipynb\t resize_with_padding.py\n",
            " data_augmentation.py\t\t\t smile_dataset\n",
            " dataset_2_almid.xlsx\t\t\t'teeth_not cropped'\n",
            " dataset_7_classes.csv\t\t\t Untitled.ipynb\n",
            " dataset_and_augmented.csv\t\t vgg.ipynb\n",
            " dataset.csv\t\t\t\t vgg_transfer_faces.ipynb\n",
            " dataset_split.ipynb\t\t\t vgg_transfer_padded_faces.ipynb\n",
            " Dlib-68-face-landmark.png\t\t vgg_transfer_padded_teeth.ipynb\n",
            " faces\t\t\t\t\t vgg_transfer_teeth.ipynb\n",
            " faces+teeth\t\t\t\t weight_converting.ipynb\n",
            " images_preprocessing.py\t\t weights.hkl\n"
          ]
        }
      ],
      "source": [
        "# Clone the entire repo.\n",
        "!git clone -l -s https://github.com/moheb432/principles-of-smile.git cloned-repo\n",
        "%cd cloned-repo\n",
        "!ls"
      ]
    },
    {
      "cell_type": "code",
      "execution_count": 2,
      "metadata": {
        "colab": {
          "base_uri": "https://localhost:8080/"
        },
        "id": "tqOzaFAbOPaM",
        "outputId": "6e02ea08-6135-4722-a4fb-aa8b1f8c494d"
      },
      "outputs": [
        {
          "output_type": "stream",
          "name": "stdout",
          "text": [
            "Mounted at /content/drive\n"
          ]
        }
      ],
      "source": [
        "from google.colab import drive\n",
        "drive.mount('/content/drive')"
      ]
    },
    {
      "cell_type": "code",
      "execution_count": 3,
      "metadata": {
        "id": "AMuQ7ONKIcoB"
      },
      "outputs": [],
      "source": [
        "from tensorflow import keras\n",
        "import keras.backend as K\n",
        "from keras.models import Model\n",
        "from keras.layers import Input, Dense, Conv2D, Conv3D, DepthwiseConv2D, SeparableConv2D, Conv3DTranspose\n",
        "from keras.layers import Flatten, MaxPool2D, AvgPool2D, GlobalAvgPool2D, UpSampling2D, BatchNormalization\n",
        "from keras.layers import Concatenate, Add, Dropout, ReLU, Lambda, Activation, LeakyReLU, PReLU\n",
        "from keras.models import Sequential\n",
        "from keras.layers.convolutional import ZeroPadding2D\n",
        "import numpy as np\n",
        "import pandas as pd\n",
        "from keras.preprocessing.image import ImageDataGenerator\n",
        "from matplotlib import pyplot as plt\n",
        "import seaborn as sns\n",
        "from sklearn.metrics import multilabel_confusion_matrix"
      ]
    },
    {
      "cell_type": "markdown",
      "metadata": {
        "id": "XSJGX42gNuV8"
      },
      "source": [
        "## 1- load Images dataset"
      ]
    },
    {
      "cell_type": "code",
      "execution_count": 4,
      "metadata": {
        "id": "mFvecZzhIp5X"
      },
      "outputs": [],
      "source": [
        "def append_ext(fn):\n",
        "    return str(fn)+\".jpg\"\n",
        "\n",
        "#loading dataset labels from csv \n",
        "df = pd.read_csv(\"dataset_and_augmented.csv\")\n",
        "\n",
        "# df[\"img\"] = df[\"img\"].apply(append_ext)\n",
        "\n",
        "df = df.replace(np.nan, 0)\n",
        "\n",
        "# labels names in csv\n",
        "classes = ['9-gummy', '16-Incisal Embrasure', '4-color', '41-Central Incisor W/H Ratio', '18-black triangle', '8-gaps', '52-Crooked']\n",
        "\n"
      ]
    },
    {
      "cell_type": "code",
      "execution_count": 5,
      "metadata": {
        "id": "uBKDfzUOIyTJ"
      },
      "outputs": [],
      "source": [
        "#shuffle dataframe before splitting \n",
        "df=df.sample(frac=1).reset_index(drop=True)"
      ]
    },
    {
      "cell_type": "code",
      "execution_count": 6,
      "metadata": {
        "colab": {
          "base_uri": "https://localhost:8080/"
        },
        "id": "FabgIDaKI6WR",
        "outputId": "8db4374e-0464-4d4e-e498-6de9d42edf16"
      },
      "outputs": [
        {
          "output_type": "stream",
          "name": "stdout",
          "text": [
            "Found 1821 validated image filenames.\n",
            "Found 116 validated image filenames.\n",
            "Found 488 validated image filenames.\n"
          ]
        },
        {
          "output_type": "stream",
          "name": "stderr",
          "text": [
            "/usr/local/lib/python3.7/dist-packages/keras_preprocessing/image/dataframe_iterator.py:282: UserWarning: Found 642 invalid image filename(s) in x_col=\"img\". These filename(s) will be ignored.\n",
            "  .format(n_invalid, x_col)\n",
            "/usr/local/lib/python3.7/dist-packages/keras_preprocessing/image/dataframe_iterator.py:282: UserWarning: Found 2347 invalid image filename(s) in x_col=\"img\". These filename(s) will be ignored.\n",
            "  .format(n_invalid, x_col)\n",
            "/usr/local/lib/python3.7/dist-packages/keras_preprocessing/image/dataframe_iterator.py:282: UserWarning: Found 1975 invalid image filename(s) in x_col=\"img\". These filename(s) will be ignored.\n",
            "  .format(n_invalid, x_col)\n"
          ]
        }
      ],
      "source": [
        "\n",
        "# load images in dataframe from saving directory \n",
        "# pationing dataset to 80:10:10 , train:valid:test sets\n",
        "train_data_generation = ImageDataGenerator( samplewise_center=True,rescale = 2/255.)\n",
        "\n",
        "\n",
        "training_set = train_data_generation.flow_from_dataframe(dataframe=df[:],\n",
        "                                                         directory=\"./all_teeth/teeth_padded/train\",\n",
        "                                                         x_col=\"img\",\n",
        "                                                         y_col=classes,\n",
        "                                                         target_size=(224, 224),\n",
        "                                                         batch_size=16,\n",
        "                                                         class_mode=\"raw\",seed=0)\n",
        "\n",
        "\n",
        "valid_data_generation = ImageDataGenerator(samplewise_center=True,rescale = 2/255.)\n",
        "\n",
        "valid_set = valid_data_generation.flow_from_dataframe(dataframe=df[:],\n",
        "                                                         directory=\"./all_teeth/teeth_padded/valid\",\n",
        "                                                         x_col=\"img\",\n",
        "                                                         y_col=classes,\n",
        "                                                         target_size=(224, 224),\n",
        "                                                         batch_size=16,\n",
        "                                                         class_mode=\"raw\",seed=0)\n",
        "\n",
        "# preprocessing the testing set\n",
        "test_data_generation = ImageDataGenerator(samplewise_center=True,rescale = 2/255.)\n",
        "\n",
        "test_set = test_data_generation.flow_from_dataframe(dataframe=df[:],\n",
        "                                                         directory=\"./all_teeth/teeth_padded/test\",\n",
        "                                                         x_col=\"img\",\n",
        "                                                         y_col=classes,\n",
        "                                                         target_size=(224, 224),\n",
        "                                                         batch_size=1,\n",
        "                                                         class_mode=\"raw\",seed=0, shuffle = False)\n"
      ]
    },
    {
      "cell_type": "code",
      "execution_count": 7,
      "metadata": {
        "colab": {
          "base_uri": "https://localhost:8080/"
        },
        "id": "XT4QCGfPNuWB",
        "outputId": "0a7b9c01-3f32-46f3-b7fb-78baf7087b3c"
      },
      "outputs": [
        {
          "output_type": "stream",
          "name": "stdout",
          "text": [
            "(488, 224, 224, 3) (488, 7)\n"
          ]
        }
      ],
      "source": [
        "# Store the data in X_test, y_test variables by iterating over the batches\n",
        "batch_size =1\n",
        "X_test, y_test = next(test_set)\n",
        "for i in range(int(len(test_set)/batch_size)-1): #1st batch is already fetched before the for loop.\n",
        "    img , label = next(test_set)\n",
        "    X_test = np.append(X_test, img, axis=0 )\n",
        "    y_test = np.append(y_test, label, axis=0)\n",
        "\n",
        "print(X_test.shape, y_test.shape)"
      ]
    },
    {
      "cell_type": "markdown",
      "metadata": {
        "id": "yXmwm8c2NuWC"
      },
      "source": [
        "### Example image"
      ]
    },
    {
      "cell_type": "code",
      "execution_count": 8,
      "metadata": {
        "colab": {
          "base_uri": "https://localhost:8080/",
          "height": 338
        },
        "id": "MIk0yElONuWC",
        "outputId": "a4077f42-2968-4a5b-f80e-b7a590d0fedf"
      },
      "outputs": [
        {
          "output_type": "stream",
          "name": "stderr",
          "text": [
            "Clipping input data to the valid range for imshow with RGB data ([0..1] for floats or [0..255] for integers).\n"
          ]
        },
        {
          "output_type": "stream",
          "name": "stdout",
          "text": [
            "image labels:\n",
            "['16-Incisal Embrasure', '41-Central Incisor W/H Ratio']\n",
            "-0.22655274\n"
          ]
        },
        {
          "output_type": "display_data",
          "data": {
            "image/png": "[encoded data removed]",
            "text/plain": [
              "<Figure size 432x288 with 1 Axes>"
            ]
          },
          "metadata": {
            "needs_background": "light"
          }
        }
      ],
      "source": [
        "img =next(training_set)\n",
        "#print(classes)\n",
        "\n",
        "l=[]\n",
        "for i, x in enumerate(classes):\n",
        "    if img[1][0][i]==1 :\n",
        "        l.append(x)\n",
        "\n",
        "print(\"image labels:\")\n",
        "print(l)\n",
        "\n",
        "img=img[0][0]  #first image\n",
        "#print(img.shape)\n",
        "# print(img)\n",
        "print(np.amin(img.flatten()))\n",
        "plt.imshow(img)\n",
        "training_set.reset()"
      ]
    },
    {
      "cell_type": "markdown",
      "metadata": {
        "id": "ofU8w8xmNuWD"
      },
      "source": [
        "## 2- Model : VGG-16 with pre-trained weights of face recognition task"
      ]
    },
    {
      "cell_type": "code",
      "execution_count": 25,
      "metadata": {
        "colab": {
          "base_uri": "https://localhost:8080/"
        },
        "id": "9rqxaDXWJAKZ",
        "outputId": "f7ce6433-a403-41b9-ce4b-46faffcddfe9",
        "scrolled": true
      },
      "outputs": [
        {
          "output_type": "stream",
          "name": "stdout",
          "text": [
            "Model: \"sequential_3\"\n",
            "_________________________________________________________________\n",
            " Layer (type)                Output Shape              Param #   \n",
            "=================================================================\n",
            " conv1_1 (Conv2D)            (None, 222, 222, 64)      1792      \n",
            "                                                                 \n",
            " conv1_2 (Conv2D)            (None, 220, 220, 64)      36928     \n",
            "                                                                 \n",
            " max_pooling2d_15 (MaxPoolin  (None, 110, 110, 64)     0         \n",
            " g2D)                                                            \n",
            "                                                                 \n",
            " conv2_1 (Conv2D)            (None, 108, 108, 128)     73856     \n",
            "                                                                 \n",
            " conv2_2 (Conv2D)            (None, 106, 106, 128)     147584    \n",
            "                                                                 \n",
            " max_pooling2d_16 (MaxPoolin  (None, 53, 53, 128)      0         \n",
            " g2D)                                                            \n",
            "                                                                 \n",
            " conv3_1 (Conv2D)            (None, 51, 51, 256)       295168    \n",
            "                                                                 \n",
            " conv3_2 (Conv2D)            (None, 49, 49, 256)       590080    \n",
            "                                                                 \n",
            " conv3_3 (Conv2D)            (None, 47, 47, 256)       590080    \n",
            "                                                                 \n",
            " max_pooling2d_17 (MaxPoolin  (None, 23, 23, 256)      0         \n",
            " g2D)                                                            \n",
            "                                                                 \n",
            " conv4_1 (Conv2D)            (None, 21, 21, 512)       1180160   \n",
            "                                                                 \n",
            " conv4_2 (Conv2D)            (None, 19, 19, 512)       2359808   \n",
            "                                                                 \n",
            " conv4_3 (Conv2D)            (None, 17, 17, 512)       2359808   \n",
            "                                                                 \n",
            " max_pooling2d_18 (MaxPoolin  (None, 8, 8, 512)        0         \n",
            " g2D)                                                            \n",
            "                                                                 \n",
            " conv5_1 (Conv2D)            (None, 6, 6, 512)         2359808   \n",
            "                                                                 \n",
            " conv5_2 (Conv2D)            (None, 4, 4, 512)         2359808   \n",
            "                                                                 \n",
            " conv5_3 (Conv2D)            (None, 2, 2, 512)         2359808   \n",
            "                                                                 \n",
            " max_pooling2d_19 (MaxPoolin  (None, 1, 1, 512)        0         \n",
            " g2D)                                                            \n",
            "                                                                 \n",
            " flatten_3 (Flatten)         (None, 512)               0         \n",
            "                                                                 \n",
            " dense_10 (Dense)            (None, 64)                32768     \n",
            "                                                                 \n",
            " batch_normalization_7 (Batc  (None, 64)               256       \n",
            " hNormalization)                                                 \n",
            "                                                                 \n",
            " activation_7 (Activation)   (None, 64)                0         \n",
            "                                                                 \n",
            " dropout_4 (Dropout)         (None, 64)                0         \n",
            "                                                                 \n",
            " dense_11 (Dense)            (None, 16)                1024      \n",
            "                                                                 \n",
            " batch_normalization_8 (Batc  (None, 16)               64        \n",
            " hNormalization)                                                 \n",
            "                                                                 \n",
            " activation_8 (Activation)   (None, 16)                0         \n",
            "                                                                 \n",
            " dense_12 (Dense)            (None, 7)                 119       \n",
            "                                                                 \n",
            "=================================================================\n",
            "Total params: 14,748,919\n",
            "Trainable params: 10,948,631\n",
            "Non-trainable params: 3,800,288\n",
            "_________________________________________________________________\n"
          ]
        }
      ],
      "source": [
        "model = Sequential()\n",
        "model.add(keras.Input(shape=(224,224,3)))\n",
        "model.add(Conv2D(64, (3, 3), activation='relu',name=\"conv1_1\"))\n",
        "model.add(Conv2D(64, (3, 3), activation='relu',name=\"conv1_2\"))\n",
        "model.add(MaxPool2D((2,2), strides=(2,2)))\n",
        "\n",
        "model.add(Conv2D(128, (3, 3), activation='relu',name=\"conv2_1\"))\n",
        "model.add(Conv2D(128, (3, 3), activation='relu',name=\"conv2_2\"))\n",
        "model.add(MaxPool2D((2,2), strides=(2,2)))\n",
        "\n",
        "model.add(Conv2D(256, (3, 3), activation='relu',name=\"conv3_1\"))\n",
        "model.add(Conv2D(256, (3, 3), activation='relu',name=\"conv3_2\"))\n",
        "model.add(Conv2D(256, (3, 3), activation='relu',name=\"conv3_3\"))\n",
        "model.add(MaxPool2D((2,2), strides=(2,2)))\n",
        " \n",
        "model.add(Conv2D(512, (3, 3), activation='relu',name=\"conv4_1\"))\n",
        "model.add(Conv2D(512, (3, 3), activation='relu',name=\"conv4_2\"))\n",
        "model.add(Conv2D(512, (3, 3), activation='relu',name=\"conv4_3\"))\n",
        "model.add(MaxPool2D((2,2), strides=(2,2)))\n",
        "\n",
        "model.add(Conv2D(512, (3, 3), activation='relu',name=\"conv5_1\"))\n",
        "model.add(Conv2D(512, (3, 3), activation='relu',name=\"conv5_2\"))\n",
        "model.add(Conv2D(512, (3, 3), activation='relu',name=\"conv5_3\"))\n",
        "model.add(MaxPool2D((2,2), strides=(2,2)))\n",
        "\n",
        "model.load_weights('/content/drive/MyDrive/vgg_face_weights.h5', by_name=True,skip_mismatch=True)\n",
        "\n",
        "#freezing layers\n",
        "for layer in model.layers:\n",
        "    layer.trainable = False\n",
        "\n",
        "model.get_layer(\"conv3_1\").trainable =True\n",
        "#model.get_layer(\"conv3_3\").trainable =True\n",
        "#model.get_layer(\"conv4_1\").trainable =True\n",
        "model.get_layer(\"conv4_1\").trainable =True\n",
        "model.get_layer(\"conv4_2\").trainable =True\n",
        "model.get_layer(\"conv5_3\").trainable =True\n",
        "model.get_layer(\"conv5_2\").trainable =True\n",
        "model.get_layer(\"conv5_1\").trainable =True\n",
        "\n",
        "\n",
        "#adding output layers\n",
        "model.add(Flatten())\n",
        "\n",
        "# model.add( Dense(64,use_bias=False, kernel_regularizer=keras.regularizers.L2(0.025)))\n",
        "model.add( Dense(64,use_bias=False, kernel_regularizer=keras.regularizers.L2(0.02)))\n",
        "model.add(BatchNormalization())\n",
        "model.add(Activation(\"relu\"))\n",
        "\n",
        "model.add(Dropout(0.5))\n",
        "\n",
        "# model.add( Dense(64,use_bias=False, kernel_regularizer=keras.regularizers.L2(0.025)))\n",
        "model.add( Dense(16, use_bias=False,kernel_regularizer=keras.regularizers.L2(0.015)))\n",
        "model.add(BatchNormalization())\n",
        "model.add(Activation(\"relu\"))\n",
        "\n",
        "# model.add(Dropout(0.5))\n",
        "\n",
        "# model.add( Dense(16, use_bias=False,kernel_regularizer=keras.regularizers.L2(0.025)))\n",
        "# model.add(BatchNormalization())\n",
        "# model.add(Activation(\"relu\"))\n",
        "\n",
        "model.add(Dense(7, activation='sigmoid'))\n",
        "# summarize\n",
        "\n",
        "model.summary()"
      ]
    },
    {
      "cell_type": "code",
      "execution_count": 26,
      "metadata": {
        "colab": {
          "base_uri": "https://localhost:8080/"
        },
        "id": "jvygoTnVNuWE",
        "outputId": "6f7b727a-892e-489f-c140-cc976e759914"
      },
      "outputs": [
        {
          "output_type": "stream",
          "name": "stdout",
          "text": [
            "Epoch 1/60\n",
            "114/114 [==============================] - 23s 189ms/step - loss: 2.6379 - binary_accuracy: 0.5599 - val_loss: 2.1673 - val_binary_accuracy: 0.6466\n",
            "Epoch 2/60\n",
            "114/114 [==============================] - 21s 186ms/step - loss: 1.6762 - binary_accuracy: 0.6246 - val_loss: 1.4879 - val_binary_accuracy: 0.5727\n",
            "Epoch 3/60\n",
            "114/114 [==============================] - 21s 186ms/step - loss: 1.1898 - binary_accuracy: 0.6833 - val_loss: 1.1033 - val_binary_accuracy: 0.6810\n",
            "Epoch 4/60\n",
            "114/114 [==============================] - 21s 187ms/step - loss: 0.9374 - binary_accuracy: 0.7189 - val_loss: 0.9193 - val_binary_accuracy: 0.6909\n",
            "Epoch 5/60\n",
            "114/114 [==============================] - 21s 187ms/step - loss: 0.7914 - binary_accuracy: 0.7574 - val_loss: 0.7929 - val_binary_accuracy: 0.7377\n",
            "Epoch 6/60\n",
            "114/114 [==============================] - 21s 187ms/step - loss: 0.6977 - binary_accuracy: 0.7746 - val_loss: 0.7161 - val_binary_accuracy: 0.7512\n",
            "Epoch 7/60\n",
            "114/114 [==============================] - 22s 188ms/step - loss: 0.6299 - binary_accuracy: 0.7895 - val_loss: 0.7347 - val_binary_accuracy: 0.6884\n",
            "Epoch 8/60\n",
            "114/114 [==============================] - 21s 187ms/step - loss: 0.5750 - binary_accuracy: 0.8002 - val_loss: 0.6490 - val_binary_accuracy: 0.7241\n",
            "Epoch 9/60\n",
            "114/114 [==============================] - 21s 187ms/step - loss: 0.5339 - binary_accuracy: 0.8067 - val_loss: 0.6077 - val_binary_accuracy: 0.7672\n",
            "Epoch 10/60\n",
            "114/114 [==============================] - 21s 187ms/step - loss: 0.5016 - binary_accuracy: 0.8163 - val_loss: 0.6493 - val_binary_accuracy: 0.7389\n",
            "Epoch 11/60\n",
            "114/114 [==============================] - 21s 187ms/step - loss: 0.4722 - binary_accuracy: 0.8196 - val_loss: 0.5830 - val_binary_accuracy: 0.7500\n",
            "Epoch 12/60\n",
            "114/114 [==============================] - 21s 187ms/step - loss: 0.4400 - binary_accuracy: 0.8295 - val_loss: 0.6431 - val_binary_accuracy: 0.7377\n",
            "Epoch 13/60\n",
            "114/114 [==============================] - 21s 187ms/step - loss: 0.4185 - binary_accuracy: 0.8379 - val_loss: 0.6091 - val_binary_accuracy: 0.7451\n",
            "Epoch 14/60\n",
            "114/114 [==============================] - 21s 187ms/step - loss: 0.3967 - binary_accuracy: 0.8438 - val_loss: 0.5363 - val_binary_accuracy: 0.7599\n",
            "Epoch 15/60\n",
            "114/114 [==============================] - 21s 187ms/step - loss: 0.3780 - binary_accuracy: 0.8513 - val_loss: 0.5663 - val_binary_accuracy: 0.7451\n",
            "Epoch 16/60\n",
            "114/114 [==============================] - 21s 186ms/step - loss: 0.3600 - binary_accuracy: 0.8588 - val_loss: 0.5289 - val_binary_accuracy: 0.7500\n",
            "Epoch 17/60\n",
            "114/114 [==============================] - 21s 187ms/step - loss: 0.3391 - binary_accuracy: 0.8677 - val_loss: 0.5756 - val_binary_accuracy: 0.7549\n",
            "Epoch 18/60\n",
            "114/114 [==============================] - 21s 187ms/step - loss: 0.3202 - binary_accuracy: 0.8756 - val_loss: 0.5686 - val_binary_accuracy: 0.7599\n",
            "Epoch 19/60\n",
            "114/114 [==============================] - 21s 186ms/step - loss: 0.3138 - binary_accuracy: 0.8791 - val_loss: 0.5475 - val_binary_accuracy: 0.7611\n",
            "Epoch 20/60\n",
            "114/114 [==============================] - 21s 186ms/step - loss: 0.3020 - binary_accuracy: 0.8849 - val_loss: 0.5457 - val_binary_accuracy: 0.7599\n",
            "Epoch 21/60\n",
            "114/114 [==============================] - 21s 187ms/step - loss: 0.2809 - binary_accuracy: 0.8983 - val_loss: 0.5512 - val_binary_accuracy: 0.7672\n",
            "Epoch 22/60\n",
            "114/114 [==============================] - 21s 187ms/step - loss: 0.2653 - binary_accuracy: 0.9065 - val_loss: 0.5543 - val_binary_accuracy: 0.7672\n",
            "Epoch 23/60\n",
            "114/114 [==============================] - 21s 188ms/step - loss: 0.2619 - binary_accuracy: 0.9069 - val_loss: 0.5983 - val_binary_accuracy: 0.7438\n",
            "Epoch 24/60\n",
            "114/114 [==============================] - 21s 188ms/step - loss: 0.2508 - binary_accuracy: 0.9100 - val_loss: 0.5782 - val_binary_accuracy: 0.7328\n",
            "Epoch 25/60\n",
            "114/114 [==============================] - 21s 188ms/step - loss: 0.2403 - binary_accuracy: 0.9175 - val_loss: 0.6618 - val_binary_accuracy: 0.7426\n",
            "Epoch 26/60\n",
            "114/114 [==============================] - 21s 188ms/step - loss: 0.2332 - binary_accuracy: 0.9225 - val_loss: 0.5761 - val_binary_accuracy: 0.7438\n",
            "Epoch 27/60\n",
            "114/114 [==============================] - 21s 187ms/step - loss: 0.2187 - binary_accuracy: 0.9259 - val_loss: 0.5711 - val_binary_accuracy: 0.7722\n",
            "Epoch 28/60\n",
            "114/114 [==============================] - 21s 187ms/step - loss: 0.2091 - binary_accuracy: 0.9322 - val_loss: 0.6174 - val_binary_accuracy: 0.7672\n",
            "Epoch 29/60\n",
            "114/114 [==============================] - 21s 187ms/step - loss: 0.2011 - binary_accuracy: 0.9321 - val_loss: 0.5782 - val_binary_accuracy: 0.7611\n",
            "Epoch 30/60\n",
            "114/114 [==============================] - 21s 187ms/step - loss: 0.1965 - binary_accuracy: 0.9364 - val_loss: 0.5875 - val_binary_accuracy: 0.7599\n",
            "Epoch 31/60\n",
            "114/114 [==============================] - 21s 187ms/step - loss: 0.1969 - binary_accuracy: 0.9368 - val_loss: 0.7209 - val_binary_accuracy: 0.7414\n",
            "Epoch 32/60\n",
            "114/114 [==============================] - 21s 187ms/step - loss: 0.1924 - binary_accuracy: 0.9372 - val_loss: 0.6360 - val_binary_accuracy: 0.7537\n",
            "Epoch 33/60\n",
            "114/114 [==============================] - 21s 187ms/step - loss: 0.1844 - binary_accuracy: 0.9413 - val_loss: 0.6111 - val_binary_accuracy: 0.7648\n",
            "Epoch 34/60\n",
            "114/114 [==============================] - 21s 186ms/step - loss: 0.1723 - binary_accuracy: 0.9476 - val_loss: 0.6694 - val_binary_accuracy: 0.7488\n",
            "Epoch 35/60\n",
            "114/114 [==============================] - 21s 187ms/step - loss: 0.1751 - binary_accuracy: 0.9457 - val_loss: 0.6313 - val_binary_accuracy: 0.7672\n",
            "Epoch 36/60\n",
            "114/114 [==============================] - 21s 186ms/step - loss: 0.1671 - binary_accuracy: 0.9476 - val_loss: 0.6957 - val_binary_accuracy: 0.7451\n",
            "Epoch 37/60\n",
            "114/114 [==============================] - 21s 187ms/step - loss: 0.1743 - binary_accuracy: 0.9434 - val_loss: 0.6255 - val_binary_accuracy: 0.7586\n",
            "Epoch 38/60\n",
            "114/114 [==============================] - 21s 187ms/step - loss: 0.1611 - binary_accuracy: 0.9467 - val_loss: 0.6784 - val_binary_accuracy: 0.7574\n",
            "Epoch 39/60\n",
            "114/114 [==============================] - 21s 187ms/step - loss: 0.1483 - binary_accuracy: 0.9576 - val_loss: 0.6213 - val_binary_accuracy: 0.7549\n",
            "Epoch 40/60\n",
            "114/114 [==============================] - 21s 188ms/step - loss: 0.1513 - binary_accuracy: 0.9558 - val_loss: 0.7100 - val_binary_accuracy: 0.7660\n",
            "Epoch 41/60\n",
            "114/114 [==============================] - 21s 188ms/step - loss: 0.1491 - binary_accuracy: 0.9556 - val_loss: 0.6838 - val_binary_accuracy: 0.7266\n",
            "Epoch 42/60\n",
            "114/114 [==============================] - 22s 188ms/step - loss: 0.1615 - binary_accuracy: 0.9457 - val_loss: 0.6910 - val_binary_accuracy: 0.7475\n",
            "Epoch 43/60\n",
            "114/114 [==============================] - 22s 189ms/step - loss: 0.1487 - binary_accuracy: 0.9527 - val_loss: 0.8356 - val_binary_accuracy: 0.7315\n",
            "Epoch 44/60\n",
            "114/114 [==============================] - 22s 189ms/step - loss: 0.1456 - binary_accuracy: 0.9566 - val_loss: 0.6992 - val_binary_accuracy: 0.7549\n",
            "Epoch 45/60\n",
            "114/114 [==============================] - 22s 189ms/step - loss: 0.1413 - binary_accuracy: 0.9576 - val_loss: 0.7840 - val_binary_accuracy: 0.7672\n",
            "Epoch 46/60\n",
            "114/114 [==============================] - 22s 189ms/step - loss: 0.1387 - binary_accuracy: 0.9578 - val_loss: 0.7339 - val_binary_accuracy: 0.7599\n",
            "Epoch 47/60\n",
            "114/114 [==============================] - 22s 190ms/step - loss: 0.1242 - binary_accuracy: 0.9645 - val_loss: 0.6660 - val_binary_accuracy: 0.7685\n",
            "Epoch 48/60\n",
            "114/114 [==============================] - 22s 189ms/step - loss: 0.1189 - binary_accuracy: 0.9665 - val_loss: 0.6761 - val_binary_accuracy: 0.7623\n",
            "Epoch 49/60\n",
            "114/114 [==============================] - 22s 189ms/step - loss: 0.1130 - binary_accuracy: 0.9713 - val_loss: 0.7884 - val_binary_accuracy: 0.7525\n",
            "Epoch 50/60\n",
            "114/114 [==============================] - 22s 188ms/step - loss: 0.1183 - binary_accuracy: 0.9677 - val_loss: 0.6974 - val_binary_accuracy: 0.7586\n",
            "Epoch 51/60\n",
            "114/114 [==============================] - 21s 188ms/step - loss: 0.1122 - binary_accuracy: 0.9700 - val_loss: 0.6918 - val_binary_accuracy: 0.7500\n",
            "Epoch 52/60\n",
            "114/114 [==============================] - 21s 188ms/step - loss: 0.1100 - binary_accuracy: 0.9693 - val_loss: 0.7103 - val_binary_accuracy: 0.7562\n",
            "Epoch 53/60\n",
            "114/114 [==============================] - 22s 188ms/step - loss: 0.1099 - binary_accuracy: 0.9707 - val_loss: 0.8031 - val_binary_accuracy: 0.7463\n",
            "Epoch 54/60\n",
            "114/114 [==============================] - 22s 188ms/step - loss: 0.1152 - binary_accuracy: 0.9681 - val_loss: 0.7746 - val_binary_accuracy: 0.7500\n",
            "Epoch 55/60\n",
            "114/114 [==============================] - 21s 188ms/step - loss: 0.1050 - binary_accuracy: 0.9712 - val_loss: 0.7142 - val_binary_accuracy: 0.7549\n",
            "Epoch 56/60\n",
            "114/114 [==============================] - 21s 187ms/step - loss: 0.1042 - binary_accuracy: 0.9727 - val_loss: 0.7778 - val_binary_accuracy: 0.7635\n",
            "Epoch 57/60\n",
            "114/114 [==============================] - 21s 187ms/step - loss: 0.0974 - binary_accuracy: 0.9747 - val_loss: 0.8266 - val_binary_accuracy: 0.7525\n",
            "Epoch 58/60\n",
            "114/114 [==============================] - 21s 186ms/step - loss: 0.0975 - binary_accuracy: 0.9754 - val_loss: 0.8363 - val_binary_accuracy: 0.7635\n",
            "Epoch 59/60\n",
            "114/114 [==============================] - 21s 186ms/step - loss: 0.1022 - binary_accuracy: 0.9715 - val_loss: 0.8224 - val_binary_accuracy: 0.7488\n",
            "Epoch 60/60\n",
            "114/114 [==============================] - 21s 187ms/step - loss: 0.0974 - binary_accuracy: 0.9754 - val_loss: 0.8301 - val_binary_accuracy: 0.7562\n"
          ]
        }
      ],
      "source": [
        "initial_learning_rate = 0.00025\n",
        "lr_schedule = keras.optimizers.schedules.ExponentialDecay(\n",
        "    initial_learning_rate,\n",
        "    decay_steps=1000,\n",
        "    decay_rate=0.96,\n",
        "    staircase=True)\n",
        "\n",
        "#model combile\n",
        "#model.compile(optimizer=keras.optimizers.Adam(learning_rate=lr_schedule),loss = 'BinaryCrossentropy',metrics=['binary_accuracy'])\n",
        "model.compile(optimizer=keras.optimizers.Adam(learning_rate=initial_learning_rate),loss = 'BinaryCrossentropy',metrics=['binary_accuracy'])\n",
        "\n",
        "#fit model\n",
        "history=model.fit(x=training_set, validation_data=valid_set, epochs=60 , shuffle =True)\n"
      ]
    },
    {
      "cell_type": "markdown",
      "metadata": {
        "id": "77uFstMoNuWF"
      },
      "source": [
        "## Plotting Diagnostic curves"
      ]
    },
    {
      "cell_type": "code",
      "execution_count": 27,
      "metadata": {
        "colab": {
          "base_uri": "https://localhost:8080/",
          "height": 513
        },
        "id": "DfE80Bu-NuWF",
        "outputId": "021fc396-f565-432a-b379-34f89faf26da"
      },
      "outputs": [
        {
          "output_type": "display_data",
          "data": {
            "image/png": "[encoded data removed]",
            "text/plain": [
              "<Figure size 576x576 with 2 Axes>"
            ]
          },
          "metadata": {
            "needs_background": "light"
          }
        }
      ],
      "source": [
        "#plotting training and validation accuracy vs epochs\n",
        "#plotting training and validation loss vs epochs\n",
        "acc = history.history['binary_accuracy']\n",
        "val_acc = history.history['val_binary_accuracy']\n",
        "\n",
        "loss = history.history['loss']\n",
        "val_loss = history.history['val_loss']\n",
        "\n",
        "plt.figure(figsize=(8, 8))\n",
        "plt.subplot(2, 1, 1)\n",
        "plt.plot(acc, label='Training Accuracy')\n",
        "plt.plot(val_acc, label='Validation Accuracy')\n",
        "plt.legend(loc='lower right')\n",
        "plt.ylabel('Accuracy')\n",
        "plt.ylim([min(plt.ylim()),1])\n",
        "plt.title('Training and Validation Accuracy')\n",
        "\n",
        "plt.subplot(2, 1, 2)\n",
        "plt.plot(loss, label='Training Loss')\n",
        "plt.plot(val_loss, label='Validation Loss')\n",
        "plt.legend(loc='upper right')\n",
        "plt.ylabel('Cross Entropy')\n",
        "plt.ylim([0,3.1])\n",
        "plt.title('Training and Validation Loss')\n",
        "plt.xlabel('epoch')\n",
        "plt.show()"
      ]
    },
    {
      "cell_type": "code",
      "execution_count": 28,
      "metadata": {
        "colab": {
          "base_uri": "https://localhost:8080/",
          "height": 423
        },
        "id": "wUcA6I45NuWG",
        "outputId": "f770d637-695b-4be2-e4c7-146c8d1aa6f9"
      },
      "outputs": [
        {
          "output_type": "execute_result",
          "data": {
            "text/html": [
              "\n",
              "  <div id=\"df-e5679933-97a8-48e4-a0f5-2b44910afa09\">\n",
              "    <div class=\"colab-df-container\">\n",
              "      <div>\n",
              "<style scoped>\n",
              "    .dataframe tbody tr th:only-of-type {\n",
              "        vertical-align: middle;\n",
              "    }\n",
              "\n",
              "    .dataframe tbody tr th {\n",
              "        vertical-align: top;\n",
              "    }\n",
              "\n",
              "    .dataframe thead th {\n",
              "        text-align: right;\n",
              "    }\n",
              "</style>\n",
              "<table border=\"1\" class=\"dataframe\">\n",
              "  <thead>\n",
              "    <tr style=\"text-align: right;\">\n",
              "      <th></th>\n",
              "      <th>0</th>\n",
              "      <th>1</th>\n",
              "      <th>2</th>\n",
              "      <th>3</th>\n",
              "      <th>4</th>\n",
              "      <th>5</th>\n",
              "      <th>6</th>\n",
              "    </tr>\n",
              "  </thead>\n",
              "  <tbody>\n",
              "    <tr>\n",
              "      <th>0</th>\n",
              "      <td>0.0</td>\n",
              "      <td>0.0</td>\n",
              "      <td>0.0</td>\n",
              "      <td>0.0</td>\n",
              "      <td>0.0</td>\n",
              "      <td>0.0</td>\n",
              "      <td>0.0</td>\n",
              "    </tr>\n",
              "    <tr>\n",
              "      <th>1</th>\n",
              "      <td>1.0</td>\n",
              "      <td>0.0</td>\n",
              "      <td>1.0</td>\n",
              "      <td>0.0</td>\n",
              "      <td>0.0</td>\n",
              "      <td>0.0</td>\n",
              "      <td>0.0</td>\n",
              "    </tr>\n",
              "    <tr>\n",
              "      <th>2</th>\n",
              "      <td>0.0</td>\n",
              "      <td>1.0</td>\n",
              "      <td>1.0</td>\n",
              "      <td>1.0</td>\n",
              "      <td>0.0</td>\n",
              "      <td>0.0</td>\n",
              "      <td>1.0</td>\n",
              "    </tr>\n",
              "    <tr>\n",
              "      <th>3</th>\n",
              "      <td>0.0</td>\n",
              "      <td>1.0</td>\n",
              "      <td>1.0</td>\n",
              "      <td>1.0</td>\n",
              "      <td>0.0</td>\n",
              "      <td>1.0</td>\n",
              "      <td>0.0</td>\n",
              "    </tr>\n",
              "    <tr>\n",
              "      <th>4</th>\n",
              "      <td>0.0</td>\n",
              "      <td>0.0</td>\n",
              "      <td>0.0</td>\n",
              "      <td>0.0</td>\n",
              "      <td>0.0</td>\n",
              "      <td>0.0</td>\n",
              "      <td>0.0</td>\n",
              "    </tr>\n",
              "    <tr>\n",
              "      <th>...</th>\n",
              "      <td>...</td>\n",
              "      <td>...</td>\n",
              "      <td>...</td>\n",
              "      <td>...</td>\n",
              "      <td>...</td>\n",
              "      <td>...</td>\n",
              "      <td>...</td>\n",
              "    </tr>\n",
              "    <tr>\n",
              "      <th>483</th>\n",
              "      <td>0.0</td>\n",
              "      <td>1.0</td>\n",
              "      <td>1.0</td>\n",
              "      <td>1.0</td>\n",
              "      <td>0.0</td>\n",
              "      <td>0.0</td>\n",
              "      <td>0.0</td>\n",
              "    </tr>\n",
              "    <tr>\n",
              "      <th>484</th>\n",
              "      <td>1.0</td>\n",
              "      <td>1.0</td>\n",
              "      <td>0.0</td>\n",
              "      <td>1.0</td>\n",
              "      <td>0.0</td>\n",
              "      <td>0.0</td>\n",
              "      <td>0.0</td>\n",
              "    </tr>\n",
              "    <tr>\n",
              "      <th>485</th>\n",
              "      <td>1.0</td>\n",
              "      <td>1.0</td>\n",
              "      <td>0.0</td>\n",
              "      <td>0.0</td>\n",
              "      <td>0.0</td>\n",
              "      <td>0.0</td>\n",
              "      <td>0.0</td>\n",
              "    </tr>\n",
              "    <tr>\n",
              "      <th>486</th>\n",
              "      <td>0.0</td>\n",
              "      <td>1.0</td>\n",
              "      <td>1.0</td>\n",
              "      <td>0.0</td>\n",
              "      <td>0.0</td>\n",
              "      <td>1.0</td>\n",
              "      <td>0.0</td>\n",
              "    </tr>\n",
              "    <tr>\n",
              "      <th>487</th>\n",
              "      <td>1.0</td>\n",
              "      <td>1.0</td>\n",
              "      <td>1.0</td>\n",
              "      <td>0.0</td>\n",
              "      <td>0.0</td>\n",
              "      <td>0.0</td>\n",
              "      <td>0.0</td>\n",
              "    </tr>\n",
              "  </tbody>\n",
              "</table>\n",
              "<p>488 rows × 7 columns</p>\n",
              "</div>\n",
              "      <button class=\"colab-df-convert\" onclick=\"convertToInteractive('df-e5679933-97a8-48e4-a0f5-2b44910afa09')\"\n",
              "              title=\"Convert this dataframe to an interactive table.\"\n",
              "              style=\"display:none;\">\n",
              "        \n",
              "  <svg xmlns=\"http://www.w3.org/2000/svg\" height=\"24px\"viewBox=\"0 0 24 24\"\n",
              "       width=\"24px\">\n",
              "    <path d=\"M0 0h24v24H0V0z\" fill=\"none\"/>\n",
              "    <path d=\"M18.56 5.44l.94 2.06.94-2.06 2.06-.94-2.06-.94-.94-2.06-.94 2.06-2.06.94zm-11 1L8.5 8.5l.94-2.06 2.06-.94-2.06-.94L8.5 2.5l-.94 2.06-2.06.94zm10 10l.94 2.06.94-2.06 2.06-.94-2.06-.94-.94-2.06-.94 2.06-2.06.94z\"/><path d=\"M17.41 7.96l-1.37-1.37c-.4-.4-.92-.59-1.43-.59-.52 0-1.04.2-1.43.59L10.3 9.45l-7.72 7.72c-.78.78-.78 2.05 0 2.83L4 21.41c.39.39.9.59 1.41.59.51 0 1.02-.2 1.41-.59l7.78-7.78 2.81-2.81c.8-.78.8-2.07 0-2.86zM5.41 20L4 18.59l7.72-7.72 1.47 1.35L5.41 20z\"/>\n",
              "  </svg>\n",
              "      </button>\n",
              "      \n",
              "  <style>\n",
              "    .colab-df-container {\n",
              "      display:flex;\n",
              "      flex-wrap:wrap;\n",
              "      gap: 12px;\n",
              "    }\n",
              "\n",
              "    .colab-df-convert {\n",
              "      background-color: #E8F0FE;\n",
              "      border: none;\n",
              "      border-radius: 50%;\n",
              "      cursor: pointer;\n",
              "      display: none;\n",
              "      fill: #1967D2;\n",
              "      height: 32px;\n",
              "      padding: 0 0 0 0;\n",
              "      width: 32px;\n",
              "    }\n",
              "\n",
              "    .colab-df-convert:hover {\n",
              "      background-color: #E2EBFA;\n",
              "      box-shadow: 0px 1px 2px rgba(60, 64, 67, 0.3), 0px 1px 3px 1px rgba(60, 64, 67, 0.15);\n",
              "      fill: #174EA6;\n",
              "    }\n",
              "\n",
              "    [theme=dark] .colab-df-convert {\n",
              "      background-color: #3B4455;\n",
              "      fill: #D2E3FC;\n",
              "    }\n",
              "\n",
              "    [theme=dark] .colab-df-convert:hover {\n",
              "      background-color: #434B5C;\n",
              "      box-shadow: 0px 1px 3px 1px rgba(0, 0, 0, 0.15);\n",
              "      filter: drop-shadow(0px 1px 2px rgba(0, 0, 0, 0.3));\n",
              "      fill: #FFFFFF;\n",
              "    }\n",
              "  </style>\n",
              "\n",
              "      <script>\n",
              "        const buttonEl =\n",
              "          document.querySelector('#df-e5679933-97a8-48e4-a0f5-2b44910afa09 button.colab-df-convert');\n",
              "        buttonEl.style.display =\n",
              "          google.colab.kernel.accessAllowed ? 'block' : 'none';\n",
              "\n",
              "        async function convertToInteractive(key) {\n",
              "          const element = document.querySelector('#df-e5679933-97a8-48e4-a0f5-2b44910afa09');\n",
              "          const dataTable =\n",
              "            await google.colab.kernel.invokeFunction('convertToInteractive',\n",
              "                                                     [key], {});\n",
              "          if (!dataTable) return;\n",
              "\n",
              "          const docLinkHtml = 'Like what you see? Visit the ' +\n",
              "            '<a target=\"_blank\" href=https://colab.research.google.com/notebooks/data_table.ipynb>data table notebook</a>'\n",
              "            + ' to learn more about interactive tables.';\n",
              "          element.innerHTML = '';\n",
              "          dataTable['output_type'] = 'display_data';\n",
              "          await google.colab.output.renderOutput(dataTable, element);\n",
              "          const docLink = document.createElement('div');\n",
              "          docLink.innerHTML = docLinkHtml;\n",
              "          element.appendChild(docLink);\n",
              "        }\n",
              "      </script>\n",
              "    </div>\n",
              "  </div>\n",
              "  "
            ],
            "text/plain": [
              "       0    1    2    3    4    5    6\n",
              "0    0.0  0.0  0.0  0.0  0.0  0.0  0.0\n",
              "1    1.0  0.0  1.0  0.0  0.0  0.0  0.0\n",
              "2    0.0  1.0  1.0  1.0  0.0  0.0  1.0\n",
              "3    0.0  1.0  1.0  1.0  0.0  1.0  0.0\n",
              "4    0.0  0.0  0.0  0.0  0.0  0.0  0.0\n",
              "..   ...  ...  ...  ...  ...  ...  ...\n",
              "483  0.0  1.0  1.0  1.0  0.0  0.0  0.0\n",
              "484  1.0  1.0  0.0  1.0  0.0  0.0  0.0\n",
              "485  1.0  1.0  0.0  0.0  0.0  0.0  0.0\n",
              "486  0.0  1.0  1.0  0.0  0.0  1.0  0.0\n",
              "487  1.0  1.0  1.0  0.0  0.0  0.0  0.0\n",
              "\n",
              "[488 rows x 7 columns]"
            ]
          },
          "metadata": {},
          "execution_count": 28
        }
      ],
      "source": [
        "predictions= model.predict(test_set)\n",
        "y_pred=[]\n",
        "for pred in predictions:\n",
        "    pred[pred>0.5]=1\n",
        "    pred[pred<=0.5]=0\n",
        "    y_pred.append(pred)\n",
        "\n",
        "y_pred = np.array(y_pred)\n",
        "pd.DataFrame(predictions)"
      ]
    },
    {
      "cell_type": "code",
      "execution_count": 29,
      "metadata": {
        "colab": {
          "base_uri": "https://localhost:8080/"
        },
        "id": "Pr9tkMC1NuWG",
        "outputId": "be592e69-4d0f-4687-e9de-d40cdb343f86"
      },
      "outputs": [
        {
          "output_type": "stream",
          "name": "stdout",
          "text": [
            "                              precision    recall  f1-score   support\n",
            "\n",
            "                     9-gummy       0.83      0.62      0.71       164\n",
            "        16-Incisal Embrasure       0.71      0.74      0.72       260\n",
            "                     4-color       0.88      0.74      0.80       328\n",
            "41-Central Incisor W/H Ratio       0.49      0.49      0.49       176\n",
            "           18-black triangle       0.57      0.37      0.45        68\n",
            "                      8-gaps       0.82      0.58      0.68        88\n",
            "                  52-Crooked       0.50      0.15      0.23       124\n",
            "\n",
            "                   micro avg       0.73      0.59      0.65      1208\n",
            "                   macro avg       0.69      0.53      0.58      1208\n",
            "                weighted avg       0.72      0.59      0.64      1208\n",
            "                 samples avg       0.53      0.48      0.47      1208\n",
            "\n"
          ]
        },
        {
          "output_type": "stream",
          "name": "stderr",
          "text": [
            "/usr/local/lib/python3.7/dist-packages/sklearn/metrics/_classification.py:1308: UndefinedMetricWarning: Precision and F-score are ill-defined and being set to 0.0 in samples with no predicted labels. Use `zero_division` parameter to control this behavior.\n",
            "  _warn_prf(average, modifier, msg_start, len(result))\n",
            "/usr/local/lib/python3.7/dist-packages/sklearn/metrics/_classification.py:1308: UndefinedMetricWarning: Recall and F-score are ill-defined and being set to 0.0 in samples with no true labels. Use `zero_division` parameter to control this behavior.\n",
            "  _warn_prf(average, modifier, msg_start, len(result))\n"
          ]
        }
      ],
      "source": [
        "from sklearn.metrics import classification_report\n",
        "\n",
        "label_names = classes\n",
        "\n",
        "print(classification_report(y_test, y_pred,target_names=label_names))"
      ]
    },
    {
      "cell_type": "code",
      "execution_count": 30,
      "metadata": {
        "colab": {
          "base_uri": "https://localhost:8080/",
          "height": 338
        },
        "id": "QKvrJHfaNuWG",
        "outputId": "52fb073f-dc08-42bf-cd92-4d27503848e4"
      },
      "outputs": [
        {
          "output_type": "stream",
          "name": "stderr",
          "text": [
            "WARNING:matplotlib.image:Clipping input data to the valid range for imshow with RGB data ([0..1] for floats or [0..255] for integers).\n"
          ]
        },
        {
          "output_type": "stream",
          "name": "stdout",
          "text": [
            "true labels : 9-gummy, 16-Incisal Embrasure, 4-color\n",
            "predicted labels : 9-gummy, 16-Incisal Embrasure, 4-color\n"
          ]
        },
        {
          "output_type": "execute_result",
          "data": {
            "text/plain": [
              "<matplotlib.image.AxesImage at 0x7f11400b8ed0>"
            ]
          },
          "metadata": {},
          "execution_count": 30
        },
        {
          "output_type": "display_data",
          "data": {
            "image/png": "[encoded data removed]",
            "text/plain": [
              "<Figure size 432x288 with 1 Axes>"
            ]
          },
          "metadata": {
            "needs_background": "light"
          }
        }
      ],
      "source": [
        "n=120\n",
        "# output sample\n",
        "true_labels=[]\n",
        "pred_labels = []\n",
        "\n",
        "for y ,z  in zip(y_test,y_pred):\n",
        "    true =[]\n",
        "    pred =[]\n",
        "    for i, x in enumerate(classes):\n",
        "        if y[i]==1 :\n",
        "            true.append(x)\n",
        "            \n",
        "        if z[i]==1 :\n",
        "            pred.append(x)\n",
        "    true_labels.append(\", \".join(true))\n",
        "    pred_labels.append(\", \".join(pred))\n",
        "        \n",
        "#print(test_set.index_array)\n",
        "print(\"true labels : \"+true_labels[n])\n",
        "print(\"predicted labels : \"+pred_labels[n])\n",
        "\n",
        "plt.imshow(X_test[n])\n",
        "\n",
        "#['gummy', 'golden_proportion ', 'gap', 'crowding', 'incisal embrassure ', 'color', 'Central line', 'Crooked', 'Central Incisor W/H Ratio', 'Black triangle', 'perfect']"
      ]
    },
    {
      "cell_type": "code",
      "execution_count": 31,
      "metadata": {
        "id": "myGeK2epNuWH"
      },
      "outputs": [],
      "source": [
        "model.save(\"vgg_teeth.h5\")"
      ]
    }
  ],
  "metadata": {
    "accelerator": "GPU",
    "colab": {
      "collapsed_sections": [],
      "name": "vgg_transfer_teeth.ipynb",
      "provenance": []
    },
    "kernelspec": {
      "display_name": "Python 3",
      "language": "python",
      "name": "python3"
    },
    "language_info": {
      "codemirror_mode": {
        "name": "ipython",
        "version": 3
      },
      "file_extension": ".py",
      "mimetype": "text/x-python",
      "name": "python",
      "nbconvert_exporter": "python",
      "pygments_lexer": "ipython3",
      "version": "3.8.8"
    }
  },
  "nbformat": 4,
  "nbformat_minor": 0
}