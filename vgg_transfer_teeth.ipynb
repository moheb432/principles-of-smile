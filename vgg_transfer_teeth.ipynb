{
 "cells": [
  {
   "cell_type": "code",
   "execution_count": 73,
   "metadata": {
    "id": "AMuQ7ONKIcoB"
   },
   "outputs": [],
   "source": [
    "from tensorflow import keras\n",
    "import keras.backend as K\n",
    "from keras.models import Model\n",
    "from keras.layers import Input, Dense, Conv2D, Conv3D, DepthwiseConv2D, SeparableConv2D, Conv3DTranspose\n",
    "from keras.layers import Flatten, MaxPool2D, AvgPool2D, GlobalAvgPool2D, UpSampling2D, BatchNormalization\n",
    "from keras.layers import Concatenate, Add, Dropout, ReLU, Lambda, Activation, LeakyReLU, PReLU\n",
    "from keras.models import Sequential\n",
    "from keras.layers.convolutional import ZeroPadding2D\n",
    "import numpy as np\n",
    "import pandas as pd\n",
    "from keras.preprocessing.image import ImageDataGenerator\n",
    "from matplotlib import pyplot as plt\n",
    "import seaborn as sns\n",
    "from sklearn.metrics import multilabel_confusion_matrix"
   ]
  },
  {
   "cell_type": "markdown",
   "metadata": {},
   "source": [
    "## 1- load Images dataset"
   ]
  },
  {
   "cell_type": "code",
   "execution_count": 74,
   "metadata": {
    "id": "mFvecZzhIp5X"
   },
   "outputs": [],
   "source": [
    "def append_ext(fn):\n",
    "    return str(fn)+\".jpg\"\n",
    "\n",
    "#loading dataset labels from csv \n",
    "df = pd.read_csv(\"dataset_and_augmented.csv\")\n",
    "\n",
    "# df[\"img\"] = df[\"img\"].apply(append_ext)\n",
    "\n",
    "df = df.replace(np.nan, 0)\n",
    "\n",
    "# labels names in csv\n",
    "classes = ['9-gummy', '16-Incisal Embrasure', '4-color', '52-Crooked', '41-Central Incisor W/H Ratio']\n"
   ]
  },
  {
   "cell_type": "code",
   "execution_count": 75,
   "metadata": {
    "id": "uBKDfzUOIyTJ"
   },
   "outputs": [],
   "source": [
    "#shuffle dataframe before splitting \n",
    "df=df.sample(frac=1).reset_index(drop=True)"
   ]
  },
  {
   "cell_type": "code",
   "execution_count": 76,
   "metadata": {
    "colab": {
     "base_uri": "https://localhost:8080/"
    },
    "id": "FabgIDaKI6WR",
    "outputId": "7eecaa9f-586f-4717-ebbe-0957baea0ea1"
   },
   "outputs": [
    {
     "name": "stdout",
     "output_type": "stream",
     "text": [
      "Found 1317 validated image filenames.\n",
      "Found 76 validated image filenames.\n",
      "Found 348 validated image filenames.\n"
     ]
    },
    {
     "name": "stderr",
     "output_type": "stream",
     "text": [
      "C:\\Users\\salma\\anaconda3\\lib\\site-packages\\keras_preprocessing\\image\\dataframe_iterator.py:279: UserWarning: Found 426 invalid image filename(s) in x_col=\"img\". These filename(s) will be ignored.\n",
      "  warnings.warn(\n",
      "C:\\Users\\salma\\anaconda3\\lib\\site-packages\\keras_preprocessing\\image\\dataframe_iterator.py:279: UserWarning: Found 1667 invalid image filename(s) in x_col=\"img\". These filename(s) will be ignored.\n",
      "  warnings.warn(\n",
      "C:\\Users\\salma\\anaconda3\\lib\\site-packages\\keras_preprocessing\\image\\dataframe_iterator.py:279: UserWarning: Found 1395 invalid image filename(s) in x_col=\"img\". These filename(s) will be ignored.\n",
      "  warnings.warn(\n"
     ]
    }
   ],
   "source": [
    "# load images in dataframe from saving directory \n",
    "# pationing dataset to 80:10:10 , train:valid:test sets\n",
    "train_data_generation = ImageDataGenerator(samplewise_center=True,samplewise_std_normalization=True)\n",
    "\n",
    "\n",
    "training_set = train_data_generation.flow_from_dataframe(dataframe=df[:],\n",
    "                                                         directory=\"./all_teeth/teeth_padded/train\",\n",
    "                                                         x_col=\"img\",\n",
    "                                                         y_col=classes,\n",
    "                                                         target_size=(224, 224),\n",
    "                                                         batch_size=32,\n",
    "                                                         class_mode=\"raw\",seed=0)\n",
    "\n",
    "\n",
    "valid_data_generation = ImageDataGenerator(rescale=1./255)\n",
    "\n",
    "valid_set = valid_data_generation.flow_from_dataframe(dataframe=df[:],\n",
    "                                                         directory=\"./all_teeth/teeth_padded/valid\",\n",
    "                                                         x_col=\"img\",\n",
    "                                                         y_col=classes,\n",
    "                                                         target_size=(224, 224),\n",
    "                                                         batch_size=32,\n",
    "                                                         class_mode=\"raw\",seed=0)\n",
    "\n",
    "# preprocessing the testing set\n",
    "test_data_generation = ImageDataGenerator(rescale=1./255)\n",
    "\n",
    "test_set = test_data_generation.flow_from_dataframe(dataframe=df[:],\n",
    "                                                         directory=\"./all_teeth/teeth_padded/test\",\n",
    "                                                         x_col=\"img\",\n",
    "                                                         y_col=classes,\n",
    "                                                         target_size=(224, 224),\n",
    "                                                         batch_size=1,\n",
    "                                                         class_mode=\"raw\",seed=0, shuffle = False)\n"
   ]
  },
  {
   "cell_type": "code",
   "execution_count": 77,
   "metadata": {},
   "outputs": [
    {
     "name": "stdout",
     "output_type": "stream",
     "text": [
      "(348, 224, 224, 3) (348, 5)\n"
     ]
    }
   ],
   "source": [
    "# Store the data in X_test, y_test variables by iterating over the batches\n",
    "batch_size =1\n",
    "X_test, y_test = next(test_set)\n",
    "for i in range(int(len(test_set)/batch_size)-1): #1st batch is already fetched before the for loop.\n",
    "    img , label = next(test_set)\n",
    "    X_test = np.append(X_test, img, axis=0 )\n",
    "    y_test = np.append(y_test, label, axis=0)\n",
    "\n",
    "print(X_test.shape, y_test.shape)"
   ]
  },
  {
   "cell_type": "markdown",
   "metadata": {},
   "source": [
    "### Example image"
   ]
  },
  {
   "cell_type": "code",
   "execution_count": 78,
   "metadata": {},
   "outputs": [
    {
     "name": "stderr",
     "output_type": "stream",
     "text": [
      "Clipping input data to the valid range for imshow with RGB data ([0..1] for floats or [0..255] for integers).\n"
     ]
    },
    {
     "name": "stdout",
     "output_type": "stream",
     "text": [
      "image labels:\n",
      "['9-gummy', '16-Incisal Embrasure', '41-Central Incisor W/H Ratio']\n"
     ]
    },
    {
     "data": {
      "image/png": "[encoded data removed]",
      "text/plain": [
       "<Figure size 432x288 with 1 Axes>"
      ]
     },
     "metadata": {
      "needs_background": "light"
     },
     "output_type": "display_data"
    }
   ],
   "source": [
    "img =next(training_set)\n",
    "#print(classes)\n",
    "\n",
    "l=[]\n",
    "for i, x in enumerate(classes):\n",
    "    if img[1][0][i]==1 :\n",
    "        l.append(x)\n",
    "\n",
    "print(\"image labels:\")\n",
    "print(l)\n",
    "\n",
    "img=img[0][0]  #first image\n",
    "#print(img.shape)\n",
    "# print(img)\n",
    "plt.imshow(img)\n",
    "training_set.reset()"
   ]
  },
  {
   "cell_type": "markdown",
   "metadata": {},
   "source": [
    "## 2- Model : VGG-16 with pre-trained weights of face recognition task"
   ]
  },
  {
   "cell_type": "code",
   "execution_count": 79,
   "metadata": {
    "id": "9rqxaDXWJAKZ",
    "scrolled": true
   },
   "outputs": [
    {
     "name": "stdout",
     "output_type": "stream",
     "text": [
      "Model: \"sequential_6\"\n",
      "_________________________________________________________________\n",
      "Layer (type)                 Output Shape              Param #   \n",
      "=================================================================\n",
      "conv1_1 (Conv2D)             (None, 222, 222, 64)      1792      \n",
      "_________________________________________________________________\n",
      "conv1_2 (Conv2D)             (None, 220, 220, 64)      36928     \n",
      "_________________________________________________________________\n",
      "max_pooling2d_30 (MaxPooling (None, 110, 110, 64)      0         \n",
      "_________________________________________________________________\n",
      "conv2_1 (Conv2D)             (None, 108, 108, 128)     73856     \n",
      "_________________________________________________________________\n",
      "conv2_2 (Conv2D)             (None, 106, 106, 128)     147584    \n",
      "_________________________________________________________________\n",
      "max_pooling2d_31 (MaxPooling (None, 53, 53, 128)       0         \n",
      "_________________________________________________________________\n",
      "conv3_1 (Conv2D)             (None, 51, 51, 256)       295168    \n",
      "_________________________________________________________________\n",
      "conv3_2 (Conv2D)             (None, 49, 49, 256)       590080    \n",
      "_________________________________________________________________\n",
      "conv3_3 (Conv2D)             (None, 47, 47, 256)       590080    \n",
      "_________________________________________________________________\n",
      "max_pooling2d_32 (MaxPooling (None, 23, 23, 256)       0         \n",
      "_________________________________________________________________\n",
      "conv4_1 (Conv2D)             (None, 21, 21, 512)       1180160   \n",
      "_________________________________________________________________\n",
      "conv4_2 (Conv2D)             (None, 19, 19, 512)       2359808   \n",
      "_________________________________________________________________\n",
      "conv4_3 (Conv2D)             (None, 17, 17, 512)       2359808   \n",
      "_________________________________________________________________\n",
      "max_pooling2d_33 (MaxPooling (None, 8, 8, 512)         0         \n",
      "_________________________________________________________________\n",
      "conv5_1 (Conv2D)             (None, 6, 6, 512)         2359808   \n",
      "_________________________________________________________________\n",
      "conv5_2 (Conv2D)             (None, 4, 4, 512)         2359808   \n",
      "_________________________________________________________________\n",
      "dropout_6 (Dropout)          (None, 4, 4, 512)         0         \n",
      "_________________________________________________________________\n",
      "conv5_3 (Conv2D)             (None, 2, 2, 512)         2359808   \n",
      "_________________________________________________________________\n",
      "max_pooling2d_34 (MaxPooling (None, 1, 1, 512)         0         \n",
      "_________________________________________________________________\n",
      "flatten_6 (Flatten)          (None, 512)               0         \n",
      "_________________________________________________________________\n",
      "dense_12 (Dense)             (None, 16)                8208      \n",
      "_________________________________________________________________\n",
      "dense_13 (Dense)             (None, 5)                 85        \n",
      "=================================================================\n",
      "Total params: 14,722,981\n",
      "Trainable params: 7,677,797\n",
      "Non-trainable params: 7,045,184\n",
      "_________________________________________________________________\n"
     ]
    }
   ],
   "source": [
    "model = Sequential()\n",
    "model.add(keras.Input(shape=(224,224,3)))\n",
    "model.add(Conv2D(64, (3, 3), activation='relu',name=\"conv1_1\"))\n",
    "model.add(Conv2D(64, (3, 3), activation='relu',name=\"conv1_2\"))\n",
    "model.add(MaxPool2D((2,2), strides=(2,2)))\n",
    " \n",
    "model.add(Conv2D(128, (3, 3), activation='relu',name=\"conv2_1\"))\n",
    "model.add(Conv2D(128, (3, 3), activation='relu',name=\"conv2_2\"))\n",
    "model.add(MaxPool2D((2,2), strides=(2,2)))\n",
    " \n",
    "model.add(Conv2D(256, (3, 3), activation='relu',name=\"conv3_1\"))\n",
    "model.add(Conv2D(256, (3, 3), activation='relu',name=\"conv3_2\"))\n",
    "#model.add(Dropout(0.1))\n",
    "model.add(Conv2D(256, (3, 3), activation='relu',name=\"conv3_3\"))\n",
    "model.add(MaxPool2D((2,2), strides=(2,2)))\n",
    " \n",
    "model.add(Conv2D(512, (3, 3), activation='relu',name=\"conv4_1\"))\n",
    "model.add(Conv2D(512, (3, 3), activation='relu',name=\"conv4_2\"))\n",
    "model.add(Conv2D(512, (3, 3), activation='relu',name=\"conv4_3\"))\n",
    "model.add(MaxPool2D((2,2), strides=(2,2)))\n",
    "model.add(Conv2D(512, (3, 3), activation='relu',name=\"conv5_1\"))\n",
    "model.add(Conv2D(512, (3, 3), activation='relu',name=\"conv5_2\"))\n",
    "model.add(Dropout(0.1))\n",
    "model.add(Conv2D(512, (3, 3), activation='relu',name=\"conv5_3\"))\n",
    "model.add(MaxPool2D((2,2), strides=(2,2)))\n",
    "\n",
    "model.load_weights('vgg_face_weights.h5', by_name=True,skip_mismatch=True)\n",
    "\n",
    "#freezing layers\n",
    "for layer in model.layers:\n",
    "    layer.trainable = False\n",
    "model.get_layer(\"conv5_3\").trainable =True\n",
    "model.get_layer(\"conv5_2\").trainable =True\n",
    "# model.get_layer(\"conv5_1\").trainable =True\n",
    "model.get_layer(\"conv4_3\").trainable =True\n",
    "model.get_layer(\"conv3_3\").trainable =True\n",
    "# model.get_layer(\"conv1_2\").trainable =True\n",
    "# model.get_layer(\"conv1_1\").trainable =True\n",
    "\n",
    "#adding output layers\n",
    "model.add(Flatten())\n",
    "#model.add(Dropout(0.1))\n",
    "#model.add( Dense(16, activation='relu'))\n",
    "model.add( Dense(16, activation='relu', kernel_regularizer=keras.regularizers.L2(0.01)))\n",
    "\n",
    "model.add(Dense(5, activation='sigmoid'))\n",
    "# summarize\n",
    "\n",
    "model.summary()"
   ]
  },
  {
   "cell_type": "code",
   "execution_count": 80,
   "metadata": {},
   "outputs": [
    {
     "name": "stdout",
     "output_type": "stream",
     "text": [
      "Epoch 1/20\n",
      "42/42 [==============================] - 129s 3s/step - loss: 266.2808 - binary_accuracy: 0.6014 - val_loss: 0.9963 - val_binary_accuracy: 0.7474\n",
      "Epoch 2/20\n",
      "42/42 [==============================] - 139s 3s/step - loss: 0.9873 - binary_accuracy: 0.6456 - val_loss: 0.9357 - val_binary_accuracy: 0.7474\n",
      "Epoch 3/20\n",
      "42/42 [==============================] - 132s 3s/step - loss: 0.9496 - binary_accuracy: 0.6456 - val_loss: 0.9032 - val_binary_accuracy: 0.7474\n",
      "Epoch 4/20\n",
      "42/42 [==============================] - 133s 3s/step - loss: 0.9278 - binary_accuracy: 0.6456 - val_loss: 0.8855 - val_binary_accuracy: 0.7474\n",
      "Epoch 5/20\n",
      "42/42 [==============================] - 128s 3s/step - loss: 0.9119 - binary_accuracy: 0.6456 - val_loss: 0.8744 - val_binary_accuracy: 0.7474\n",
      "Epoch 6/20\n",
      "42/42 [==============================] - 124s 3s/step - loss: 0.8993 - binary_accuracy: 0.6456 - val_loss: 0.8606 - val_binary_accuracy: 0.7474\n",
      "Epoch 7/20\n",
      "42/42 [==============================] - 133s 3s/step - loss: 0.8892 - binary_accuracy: 0.6456 - val_loss: 0.8545 - val_binary_accuracy: 0.7474\n",
      "Epoch 8/20\n",
      "42/42 [==============================] - 135s 3s/step - loss: 0.8798 - binary_accuracy: 0.6456 - val_loss: 0.8417 - val_binary_accuracy: 0.7474\n",
      "Epoch 9/20\n",
      "42/42 [==============================] - 135s 3s/step - loss: 0.8721 - binary_accuracy: 0.6456 - val_loss: 0.8327 - val_binary_accuracy: 0.7474\n",
      "Epoch 10/20\n",
      "42/42 [==============================] - 133s 3s/step - loss: 0.8648 - binary_accuracy: 0.6456 - val_loss: 0.8340 - val_binary_accuracy: 0.7474\n",
      "Epoch 11/20\n",
      "42/42 [==============================] - 133s 3s/step - loss: 0.8591 - binary_accuracy: 0.6456 - val_loss: 0.8224 - val_binary_accuracy: 0.7474\n",
      "Epoch 12/20\n",
      "42/42 [==============================] - 133s 3s/step - loss: 0.8531 - binary_accuracy: 0.6456 - val_loss: 0.8119 - val_binary_accuracy: 0.7474\n",
      "Epoch 13/20\n",
      "42/42 [==============================] - 135s 3s/step - loss: 0.8474 - binary_accuracy: 0.6456 - val_loss: 0.8146 - val_binary_accuracy: 0.7474\n",
      "Epoch 14/20\n",
      "42/42 [==============================] - 124s 3s/step - loss: 0.8427 - binary_accuracy: 0.6456 - val_loss: 0.8097 - val_binary_accuracy: 0.7474\n",
      "Epoch 15/20\n",
      "42/42 [==============================] - 127s 3s/step - loss: 0.8380 - binary_accuracy: 0.6456 - val_loss: 0.7988 - val_binary_accuracy: 0.7474\n",
      "Epoch 16/20\n",
      "42/42 [==============================] - 127s 3s/step - loss: 0.8339 - binary_accuracy: 0.6456 - val_loss: 0.7992 - val_binary_accuracy: 0.7474\n",
      "Epoch 17/20\n",
      "42/42 [==============================] - 133s 3s/step - loss: 0.8298 - binary_accuracy: 0.6456 - val_loss: 0.7920 - val_binary_accuracy: 0.7474\n",
      "Epoch 18/20\n",
      "42/42 [==============================] - 130s 3s/step - loss: 0.8258 - binary_accuracy: 0.6456 - val_loss: 0.7905 - val_binary_accuracy: 0.7474\n",
      "Epoch 19/20\n",
      "42/42 [==============================] - 126s 3s/step - loss: 0.8219 - binary_accuracy: 0.6456 - val_loss: 0.7915 - val_binary_accuracy: 0.7474\n",
      "Epoch 20/20\n",
      "42/42 [==============================] - 128s 3s/step - loss: 0.8188 - binary_accuracy: 0.6456 - val_loss: 0.7873 - val_binary_accuracy: 0.7474\n"
     ]
    }
   ],
   "source": [
    "initial_learning_rate = 0.022\n",
    "lr_schedule = keras.optimizers.schedules.ExponentialDecay(\n",
    "    initial_learning_rate,\n",
    "    decay_steps=1000,\n",
    "    decay_rate=0.96,\n",
    "    staircase=True)\n",
    "\n",
    "#model combile\n",
    "#model.compile(optimizer=keras.optimizers.Adam(learning_rate=lr_schedule),loss = 'BinaryCrossentropy',metrics=['binary_accuracy'])\n",
    "model.compile(optimizer=keras.optimizers.Adam(learning_rate=initial_learning_rate),loss = 'BinaryCrossentropy',metrics=['binary_accuracy'])\n",
    "\n",
    "#fit model\n",
    "history=model.fit(x=training_set, validation_data=valid_set, epochs=20 , shuffle =True)\n"
   ]
  },
  {
   "cell_type": "markdown",
   "metadata": {},
   "source": [
    "## Plotting Diagnostic curves"
   ]
  },
  {
   "cell_type": "code",
   "execution_count": 81,
   "metadata": {},
   "outputs": [
    {
     "data": {
      "image/png": "[encoded data removed]",
      "text/plain": [
       "<Figure size 576x576 with 2 Axes>"
      ]
     },
     "metadata": {
      "needs_background": "light"
     },
     "output_type": "display_data"
    }
   ],
   "source": [
    "#plotting training and validation accuracy vs epochs\n",
    "#plotting training and validation loss vs epochs\n",
    "acc = history.history['binary_accuracy']\n",
    "val_acc = history.history['val_binary_accuracy']\n",
    "\n",
    "loss = history.history['loss']\n",
    "val_loss = history.history['val_loss']\n",
    "\n",
    "plt.figure(figsize=(8, 8))\n",
    "plt.subplot(2, 1, 1)\n",
    "plt.plot(acc, label='Training Accuracy')\n",
    "plt.plot(val_acc, label='Validation Accuracy')\n",
    "plt.legend(loc='lower right')\n",
    "plt.ylabel('Accuracy')\n",
    "plt.ylim([min(plt.ylim()),1])\n",
    "plt.title('Training and Validation Accuracy')\n",
    "\n",
    "plt.subplot(2, 1, 2)\n",
    "plt.plot(loss, label='Training Loss')\n",
    "plt.plot(val_loss, label='Validation Loss')\n",
    "plt.legend(loc='upper right')\n",
    "plt.ylabel('Cross Entropy')\n",
    "plt.ylim([0,1.6])\n",
    "plt.title('Training and Validation Loss')\n",
    "plt.xlabel('epoch')\n",
    "plt.show()"
   ]
  },
  {
   "cell_type": "code",
   "execution_count": 82,
   "metadata": {},
   "outputs": [
    {
     "data": {
      "text/html": [
       "<div>\n",
       "<style scoped>\n",
       "    .dataframe tbody tr th:only-of-type {\n",
       "        vertical-align: middle;\n",
       "    }\n",
       "\n",
       "    .dataframe tbody tr th {\n",
       "        vertical-align: top;\n",
       "    }\n",
       "\n",
       "    .dataframe thead th {\n",
       "        text-align: right;\n",
       "    }\n",
       "</style>\n",
       "<table border=\"1\" class=\"dataframe\">\n",
       "  <thead>\n",
       "    <tr style=\"text-align: right;\">\n",
       "      <th></th>\n",
       "      <th>0</th>\n",
       "      <th>1</th>\n",
       "      <th>2</th>\n",
       "      <th>3</th>\n",
       "      <th>4</th>\n",
       "    </tr>\n",
       "  </thead>\n",
       "  <tbody>\n",
       "    <tr>\n",
       "      <th>0</th>\n",
       "      <td>0.0</td>\n",
       "      <td>1.0</td>\n",
       "      <td>1.0</td>\n",
       "      <td>0.0</td>\n",
       "      <td>1.0</td>\n",
       "    </tr>\n",
       "    <tr>\n",
       "      <th>1</th>\n",
       "      <td>0.0</td>\n",
       "      <td>1.0</td>\n",
       "      <td>1.0</td>\n",
       "      <td>0.0</td>\n",
       "      <td>1.0</td>\n",
       "    </tr>\n",
       "    <tr>\n",
       "      <th>2</th>\n",
       "      <td>0.0</td>\n",
       "      <td>1.0</td>\n",
       "      <td>1.0</td>\n",
       "      <td>0.0</td>\n",
       "      <td>1.0</td>\n",
       "    </tr>\n",
       "    <tr>\n",
       "      <th>3</th>\n",
       "      <td>0.0</td>\n",
       "      <td>1.0</td>\n",
       "      <td>1.0</td>\n",
       "      <td>0.0</td>\n",
       "      <td>1.0</td>\n",
       "    </tr>\n",
       "    <tr>\n",
       "      <th>4</th>\n",
       "      <td>0.0</td>\n",
       "      <td>1.0</td>\n",
       "      <td>1.0</td>\n",
       "      <td>0.0</td>\n",
       "      <td>1.0</td>\n",
       "    </tr>\n",
       "    <tr>\n",
       "      <th>...</th>\n",
       "      <td>...</td>\n",
       "      <td>...</td>\n",
       "      <td>...</td>\n",
       "      <td>...</td>\n",
       "      <td>...</td>\n",
       "    </tr>\n",
       "    <tr>\n",
       "      <th>343</th>\n",
       "      <td>0.0</td>\n",
       "      <td>1.0</td>\n",
       "      <td>1.0</td>\n",
       "      <td>0.0</td>\n",
       "      <td>1.0</td>\n",
       "    </tr>\n",
       "    <tr>\n",
       "      <th>344</th>\n",
       "      <td>0.0</td>\n",
       "      <td>1.0</td>\n",
       "      <td>1.0</td>\n",
       "      <td>0.0</td>\n",
       "      <td>1.0</td>\n",
       "    </tr>\n",
       "    <tr>\n",
       "      <th>345</th>\n",
       "      <td>0.0</td>\n",
       "      <td>1.0</td>\n",
       "      <td>1.0</td>\n",
       "      <td>0.0</td>\n",
       "      <td>1.0</td>\n",
       "    </tr>\n",
       "    <tr>\n",
       "      <th>346</th>\n",
       "      <td>0.0</td>\n",
       "      <td>1.0</td>\n",
       "      <td>1.0</td>\n",
       "      <td>0.0</td>\n",
       "      <td>1.0</td>\n",
       "    </tr>\n",
       "    <tr>\n",
       "      <th>347</th>\n",
       "      <td>0.0</td>\n",
       "      <td>1.0</td>\n",
       "      <td>1.0</td>\n",
       "      <td>0.0</td>\n",
       "      <td>1.0</td>\n",
       "    </tr>\n",
       "  </tbody>\n",
       "</table>\n",
       "<p>348 rows × 5 columns</p>\n",
       "</div>"
      ],
      "text/plain": [
       "       0    1    2    3    4\n",
       "0    0.0  1.0  1.0  0.0  1.0\n",
       "1    0.0  1.0  1.0  0.0  1.0\n",
       "2    0.0  1.0  1.0  0.0  1.0\n",
       "3    0.0  1.0  1.0  0.0  1.0\n",
       "4    0.0  1.0  1.0  0.0  1.0\n",
       "..   ...  ...  ...  ...  ...\n",
       "343  0.0  1.0  1.0  0.0  1.0\n",
       "344  0.0  1.0  1.0  0.0  1.0\n",
       "345  0.0  1.0  1.0  0.0  1.0\n",
       "346  0.0  1.0  1.0  0.0  1.0\n",
       "347  0.0  1.0  1.0  0.0  1.0\n",
       "\n",
       "[348 rows x 5 columns]"
      ]
     },
     "execution_count": 82,
     "metadata": {},
     "output_type": "execute_result"
    }
   ],
   "source": [
    "predictions= model.predict(test_set)\n",
    "y_pred=[]\n",
    "for pred in predictions:\n",
    "    pred[pred>0.5]=1\n",
    "    pred[pred<=0.5]=0\n",
    "    y_pred.append(pred)\n",
    "\n",
    "y_pred = np.array(y_pred)\n",
    "pd.DataFrame(predictions)"
   ]
  },
  {
   "cell_type": "code",
   "execution_count": 83,
   "metadata": {},
   "outputs": [
    {
     "name": "stdout",
     "output_type": "stream",
     "text": [
      "                              precision    recall  f1-score   support\n",
      "\n",
      "                     9-gummy       0.00      0.00      0.00        92\n",
      "        16-Incisal Embrasure       0.55      1.00      0.71       192\n",
      "                     4-color       0.54      1.00      0.70       188\n",
      "                  52-Crooked       0.00      0.00      0.00       108\n",
      "41-Central Incisor W/H Ratio       0.56      1.00      0.72       196\n",
      "\n",
      "                   micro avg       0.55      0.74      0.63       776\n",
      "                   macro avg       0.33      0.60      0.43       776\n",
      "                weighted avg       0.41      0.74      0.53       776\n",
      "                 samples avg       0.55      0.61      0.55       776\n",
      "\n"
     ]
    },
    {
     "name": "stderr",
     "output_type": "stream",
     "text": [
      "C:\\Users\\salma\\anaconda3\\lib\\site-packages\\sklearn\\metrics\\_classification.py:1245: UndefinedMetricWarning: Precision and F-score are ill-defined and being set to 0.0 in labels with no predicted samples. Use `zero_division` parameter to control this behavior.\n",
      "  _warn_prf(average, modifier, msg_start, len(result))\n",
      "C:\\Users\\salma\\anaconda3\\lib\\site-packages\\sklearn\\metrics\\_classification.py:1245: UndefinedMetricWarning: Recall and F-score are ill-defined and being set to 0.0 in samples with no true labels. Use `zero_division` parameter to control this behavior.\n",
      "  _warn_prf(average, modifier, msg_start, len(result))\n"
     ]
    }
   ],
   "source": [
    "from sklearn.metrics import classification_report\n",
    "\n",
    "label_names = classes\n",
    "\n",
    "print(classification_report(y_test, y_pred,target_names=label_names))"
   ]
  },
  {
   "cell_type": "code",
   "execution_count": 84,
   "metadata": {},
   "outputs": [
    {
     "name": "stdout",
     "output_type": "stream",
     "text": [
      "true labels : 9-gummy, 4-color, 41-Central Incisor W/H Ratio\n",
      "predicted labels : 16-Incisal Embrasure, 4-color, 41-Central Incisor W/H Ratio\n"
     ]
    },
    {
     "data": {
      "text/plain": [
       "<matplotlib.image.AxesImage at 0x24c1ebca820>"
      ]
     },
     "execution_count": 84,
     "metadata": {},
     "output_type": "execute_result"
    },
    {
     "data": {
      "image/png": "[encoded data removed]",
      "text/plain": [
       "<Figure size 432x288 with 1 Axes>"
      ]
     },
     "metadata": {
      "needs_background": "light"
     },
     "output_type": "display_data"
    }
   ],
   "source": [
    "# output sample\n",
    "true_labels=[]\n",
    "pred_labels = []\n",
    "\n",
    "for y ,z  in zip(y_test,y_pred):\n",
    "    true =[]\n",
    "    pred =[]\n",
    "    for i, x in enumerate(classes):\n",
    "        if y[i]==1 :\n",
    "            true.append(x)\n",
    "            \n",
    "        if z[i]==1 :\n",
    "            pred.append(x)\n",
    "    true_labels.append(\", \".join(true))\n",
    "    pred_labels.append(\", \".join(pred))\n",
    "        \n",
    "#print(test_set.index_array)\n",
    "print(\"true labels : \"+true_labels[9])\n",
    "print(\"predicted labels : \"+pred_labels[9])\n",
    "\n",
    "plt.imshow(X_test[9])\n",
    "\n",
    "#['gummy', 'golden_proportion ', 'gap', 'crowding', 'incisal embrassure ', 'color', 'Central line', 'Crooked', 'Central Incisor W/H Ratio', 'Black triangle', 'perfect']"
   ]
  },
  {
   "cell_type": "code",
   "execution_count": 85,
   "metadata": {},
   "outputs": [],
   "source": [
    "model.save(\"vgg_teeth.h5\")"
   ]
  },
  {
   "cell_type": "code",
   "execution_count": null,
   "metadata": {},
   "outputs": [],
   "source": []
  }
 ],
 "metadata": {
  "accelerator": "GPU",
  "colab": {
   "collapsed_sections": [],
   "name": "Untitled0.ipynb",
   "provenance": []
  },
  "kernelspec": {
   "display_name": "Python 3",
   "language": "python",
   "name": "python3"
  },
  "language_info": {
   "codemirror_mode": {
    "name": "ipython",
    "version": 3
   },
   "file_extension": ".py",
   "mimetype": "text/x-python",
   "name": "python",
   "nbconvert_exporter": "python",
   "pygments_lexer": "ipython3",
   "version": "3.8.8"
  }
 },
 "nbformat": 4,
 "nbformat_minor": 1
}
